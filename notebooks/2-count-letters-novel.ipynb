{
 "cells": [
  {
   "cell_type": "markdown",
   "metadata": {},
   "source": [
    "## Counting letter frequencies in a novel\n",
    "\n",
    "See https://towardsdatascience.com/a-hands-on-demo-of-analyzing-big-data-with-spark-68cb6600a295\n",
    "\n",
    "Project Gutenberg is an online repository of books in the public domain, so we can pull a book from there to analyze. Let’s do Leo Tolstoy’s War and Peace − I’ve always wanted to read it, or at least know how frequently each letter in the alphabet appears! [3]\n",
    "\n",
    "Below, we get the HTML from the novel’s webpage with the Beautiful Soup Python library, tidy up the paragraphs, and then append them to a list. We then remove the first 383 paragraphs that are just the table of contents! We’re left with 11,186 paragraphs ranging from 4 characters to 4381. (The string kind of characters, but with War and Peace, maybe novel characters too.)"
   ]
  },
  {
   "cell_type": "code",
   "execution_count": 11,
   "metadata": {},
   "outputs": [],
   "source": [
    "import requests\n",
    "import pandas as pd\n",
    "from bs4 import BeautifulSoup"
   ]
  },
  {
   "cell_type": "code",
   "execution_count": 12,
   "metadata": {},
   "outputs": [],
   "source": [
    "# Pull book\n",
    "book_url = \"https://www.gutenberg.org/files/2600/2600-h/2600-h.htm\"\n",
    "response = requests.get(book_url)\n",
    "soup = BeautifulSoup(response.text, 'html')"
   ]
  },
  {
   "cell_type": "code",
   "execution_count": 13,
   "metadata": {},
   "outputs": [],
   "source": [
    "# Create list to store clean paragraphs\n",
    "pars = []\n",
    "\n",
    "# Set minimum str length for paragraphs\n",
    "MIN_PAR_LEN = 2\n",
    "\n",
    "# Iterate through paragraphs\n",
    "for par in soup.findAll('p'):\n",
    "\n",
    "    # Remove newlines and returns\n",
    "    par_clean = ''.join(par.text.split('\\n'))\n",
    "    par_clean = ''.join(par_clean.split('\\r'))\n",
    "\n",
    "    if par_clean == '':\n",
    "        continue\n",
    "\n",
    "    # Remove extra spaces\n",
    "    par_clean = par_clean.split('  ')\n",
    "    par_clean = ' '.join([p for p in par_clean if p != ''])\n",
    "\n",
    "    # Add cleaned paragraph to list\n",
    "    if len(par_clean) > MIN_PAR_LEN:\n",
    "        pars.append(par_clean)"
   ]
  },
  {
   "cell_type": "code",
   "execution_count": 16,
   "metadata": {},
   "outputs": [
    {
     "name": "stdout",
     "output_type": "stream",
     "text": [
      "0 “Well, Prince, so Genoa and Lucca are now just family estates of the Buonapartes. But I warn you, if you don’t tell me that this means war, if you still try to defend the infamies and horrors perpetrated by that Antichrist—I really believe he is Antichrist—I will have nothing more to do with you and you are no longer my friend, no longer my ‘faithful slave,’ as you call yourself! But how do you do? I see I have frightened you—sit down and tell me all the news.”  \n",
      "1 It was in July, 1805, and the speaker was the well-known Anna PÃ¡vlovna SchÃ©rer, maid of honor and favorite of the Empress MÃ¡rya FÃ«dorovna. With these words she greeted Prince VasÃ­li KurÃ¡gin, a man of high rank and importance, who was the first to arrive at her reception. Anna PÃ¡vlovna had had a cough for some days. She was, as she said, suffering from la grippe; grippe being then a new word in St. Petersburg, used only by the elite.\n",
      "2 All her invitations without exception, written in French, and delivered by a scarlet-liveried footman that morning, ran as follows:\n",
      "3 “If you have nothing better to do, Count (or Prince), and if the prospect of spending an evening with a poor invalid is not too terrible, I shall be very charmed to see you tonight between 7 and 10—Annette SchÃ©rer.”  \n",
      "4 “Heavens! what a virulent attack!” replied the prince, not in the least disconcerted by this reception. He had just entered, wearing an embroidered court uniform, knee breeches, and shoes, and had stars on his breast and a serene expression on his flat face. He spoke in that refined French in which our grandfathers not only spoke but thought, and with the gentle, patronizing intonation natural to a man of importance who had grown old in society and at court. He went up to Anna PÃ¡vlovna, kissed her hand, presenting to her his bald, scented, and shining head, and complacently seated himself on the sofa.\n"
     ]
    }
   ],
   "source": [
    "for ipar, par in enumerate(pars[:5]):\n",
    "    print(ipar, par)"
   ]
  },
  {
   "cell_type": "code",
   "execution_count": 21,
   "metadata": {},
   "outputs": [
    {
     "name": "stdout",
     "output_type": "stream",
     "text": [
      "11329 Just so it now seems as if we have only to admit the law of inevitability, to destroy the conception of the soul, of good and evil, and all the institutions of state and church that have been built up on those conceptions.\n",
      "11330 So too, like Voltaire in his time, uninvited defenders of the law of inevitability today use that law as a weapon against religion, though the law of inevitability in history, like the law of Copernicus in astronomy, far from destroying, even strengthens the foundation on which the institutions of state and church are erected.\n",
      "11331 As in the question of astronomy then, so in the question of history now, the whole difference of opinion is based on the recognition or nonrecognition of something absolute, serving as the measure of visible phenomena. In astronomy it was the immovability of the earth, in history it is the independence of personality—free will.\n",
      "11332 As with astronomy the difficulty of recognizing the motion of the earth lay in abandoning the immediate sensation of the earth’s fixity and of the motion of the planets, so in history the difficulty of recognizing the subjection of personality to the laws of space, time, and cause lies in renouncing the direct feeling of the independence of one’s own personality. But as in astronomy the new view said: “It is true that we do not feel the movement of the earth, but by admitting its immobility we arrive at absurdity, while by admitting its motion (which we do not feel) we arrive at laws,” so also in history the new view says: “It is true that we are not conscious of our dependence, but by admitting our free will we arrive at absurdity, while by admitting our dependence on the external world, on time, and on cause, we arrive at laws.”  \n",
      "11333 In the first case it was necessary to renounce the consciousness of an unreal immobility in space and to recognize a motion we did not feel; in the present case it is similarly necessary to renounce a freedom that does not exist, and to recognize a dependence of which we are not conscious.\n"
     ]
    }
   ],
   "source": [
    "for ipar, par in enumerate(pars[-5:]):\n",
    "    print(len(pars)-5+ipar, par)"
   ]
  },
  {
   "cell_type": "code",
   "execution_count": 22,
   "metadata": {},
   "outputs": [
    {
     "data": {
      "text/plain": [
       "count    11334\n",
       "mean       281\n",
       "std        336\n",
       "min          4\n",
       "25%         83\n",
       "50%        167\n",
       "75%        343\n",
       "max       4381\n",
       "dtype: int64"
      ]
     },
     "execution_count": 22,
     "metadata": {},
     "output_type": "execute_result"
    }
   ],
   "source": [
    "# Remove table of contents - don't need this as already starting at beginning and finishing at end of text\n",
    "# pars = pars[383:]\n",
    "\n",
    "# Visualize paragraph lengths\n",
    "pd.Series([len(par) for par in pars]).describe().astype(int)\n",
    "# count    11186\n",
    "# mean       284\n",
    "# std        337\n",
    "# min          4\n",
    "# 25%         84\n",
    "# 50%        170\n",
    "# 75%        347\n",
    "# max       4381"
   ]
  },
  {
   "cell_type": "markdown",
   "metadata": {},
   "source": [
    "Despite War and Peace being a massive novel, we see that pandas can still process high-level metrics without a problem − the line `pd.Series([len(par) for par in pars]).describe().astype(int)` runs nearly instantly on my laptop.\n",
    "But we’ll start to notice a substantial performance improvement with Spark when we start asking tougher questions, like the frequency of each letter throughout the book. This is because the paragraphs can be processed independently from one another; Spark will process paragraphs several at a time, whereas Python and pandas will process them one by one."
   ]
  },
  {
   "cell_type": "markdown",
   "metadata": {},
   "source": [
    "As before, we start our Spark session and create an RDD of our paragraphs. We also load Counter, a built-in Python class optimized for counting, and reduce, which we’ll use to demo the base Python approach later."
   ]
  },
  {
   "cell_type": "code",
   "execution_count": 25,
   "metadata": {},
   "outputs": [],
   "source": [
    "from functools import reduce\n",
    "from collections import Counter\n",
    "from pyspark.sql import SparkSession"
   ]
  },
  {
   "cell_type": "code",
   "execution_count": 26,
   "metadata": {},
   "outputs": [
    {
     "name": "stdout",
     "output_type": "stream",
     "text": [
      "22/09/23 11:21:44 WARN Utils: Your hostname, tmps-MacBook-Air.local resolves to a loopback address: 127.0.0.1; using 192.168.0.62 instead (on interface en0)\n",
      "22/09/23 11:21:44 WARN Utils: Set SPARK_LOCAL_IP if you need to bind to another address\n"
     ]
    },
    {
     "name": "stderr",
     "output_type": "stream",
     "text": [
      "Setting default log level to \"WARN\".\n",
      "To adjust logging level use sc.setLogLevel(newLevel). For SparkR, use setLogLevel(newLevel).\n"
     ]
    },
    {
     "name": "stdout",
     "output_type": "stream",
     "text": [
      "22/09/23 11:21:45 WARN NativeCodeLoader: Unable to load native-hadoop library for your platform... using builtin-java classes where applicable\n",
      "22/09/23 11:21:46 WARN Utils: Service 'SparkUI' could not bind on port 4040. Attempting port 4041.\n",
      "22/09/23 11:21:46 WARN Utils: Service 'SparkUI' could not bind on port 4041. Attempting port 4042.\n"
     ]
    }
   ],
   "source": [
    "# Create Spark session\n",
    "spark = SparkSession.builder.getOrCreate()\n",
    "\n",
    "# Partition novel into RDD\n",
    "rdd = spark.sparkContext.parallelize(pars)"
   ]
  },
  {
   "cell_type": "code",
   "execution_count": 27,
   "metadata": {},
   "outputs": [
    {
     "name": "stderr",
     "output_type": "stream",
     "text": [
      "                                                                                \r"
     ]
    },
    {
     "data": {
      "text/plain": [
       "['“Well, Prince, so Genoa and Lucca are now just family estates of the Buonapartes. But I warn you, if you don’t tell me that this means war, if you still try to defend the infamies and horrors perpetrated by that Antichrist—I really believe he is Antichrist—I will have nothing more to do with you and you are no longer my friend, no longer my ‘faithful slave,’ as you call yourself! But how do you do? I see I have frightened you—sit down and tell me all the news.”  ',\n",
       " 'It was in July, 1805, and the speaker was the well-known Anna PÃ¡vlovna SchÃ©rer, maid of honor and favorite of the Empress MÃ¡rya FÃ«dorovna. With these words she greeted Prince VasÃ\\xadli KurÃ¡gin, a man of high rank and importance, who was the first to arrive at her reception. Anna PÃ¡vlovna had had a cough for some days. She was, as she said, suffering from la grippe; grippe being then a new word in St. Petersburg, used only by the elite.',\n",
       " 'All her invitations without exception, written in French, and delivered by a scarlet-liveried footman that morning, ran as follows:']"
      ]
     },
     "execution_count": 27,
     "metadata": {},
     "output_type": "execute_result"
    }
   ],
   "source": [
    "rdd.take(3)"
   ]
  },
  {
   "cell_type": "code",
   "execution_count": 28,
   "metadata": {},
   "outputs": [
    {
     "data": {
      "text/plain": [
       "PythonRDD[2] at RDD at PythonRDD.scala:53"
      ]
     },
     "execution_count": 28,
     "metadata": {},
     "output_type": "execute_result"
    }
   ],
   "source": [
    "# Nothing happens\n",
    "\n",
    "rdd.map(Counter)\n",
    "\n",
    "# PythonRDD[12] at RDD at PythonRDD.scala:53\n"
   ]
  },
  {
   "cell_type": "code",
   "execution_count": 29,
   "metadata": {},
   "outputs": [
    {
     "data": {
      "text/plain": [
       "[Counter({'“': 1,\n",
       "          'W': 1,\n",
       "          'e': 40,\n",
       "          'l': 23,\n",
       "          ',': 6,\n",
       "          ' ': 89,\n",
       "          'P': 1,\n",
       "          'r': 21,\n",
       "          'i': 21,\n",
       "          'n': 25,\n",
       "          'c': 6,\n",
       "          's': 19,\n",
       "          'o': 30,\n",
       "          'G': 1,\n",
       "          'a': 27,\n",
       "          'd': 14,\n",
       "          'L': 1,\n",
       "          'u': 15,\n",
       "          'w': 8,\n",
       "          'j': 1,\n",
       "          't': 32,\n",
       "          'f': 11,\n",
       "          'm': 8,\n",
       "          'y': 15,\n",
       "          'h': 17,\n",
       "          'B': 3,\n",
       "          'p': 3,\n",
       "          '.': 2,\n",
       "          'I': 5,\n",
       "          '’': 2,\n",
       "          'b': 2,\n",
       "          'A': 2,\n",
       "          '—': 3,\n",
       "          'v': 4,\n",
       "          'g': 4,\n",
       "          '‘': 1,\n",
       "          '!': 1,\n",
       "          '?': 1,\n",
       "          '”': 1}),\n",
       " Counter({'I': 1,\n",
       "          't': 19,\n",
       "          ' ': 79,\n",
       "          'w': 10,\n",
       "          'a': 31,\n",
       "          's': 20,\n",
       "          'i': 19,\n",
       "          'n': 26,\n",
       "          'J': 1,\n",
       "          'u': 6,\n",
       "          'l': 9,\n",
       "          'y': 5,\n",
       "          ',': 8,\n",
       "          '1': 1,\n",
       "          '8': 1,\n",
       "          '0': 1,\n",
       "          '5': 1,\n",
       "          'd': 13,\n",
       "          'h': 20,\n",
       "          'e': 37,\n",
       "          'p': 8,\n",
       "          'k': 3,\n",
       "          'r': 27,\n",
       "          '-': 1,\n",
       "          'o': 22,\n",
       "          'A': 2,\n",
       "          'P': 4,\n",
       "          'Ã': 7,\n",
       "          '¡': 4,\n",
       "          'v': 7,\n",
       "          'S': 3,\n",
       "          'c': 5,\n",
       "          '©': 1,\n",
       "          'm': 6,\n",
       "          'f': 9,\n",
       "          'E': 1,\n",
       "          'M': 1,\n",
       "          'F': 1,\n",
       "          '«': 1,\n",
       "          '.': 5,\n",
       "          'W': 1,\n",
       "          'g': 9,\n",
       "          'V': 1,\n",
       "          '\\xad': 1,\n",
       "          'K': 1,\n",
       "          ';': 1,\n",
       "          'b': 3})]"
      ]
     },
     "execution_count": 29,
     "metadata": {},
     "output_type": "execute_result"
    }
   ],
   "source": [
    "# We force the execution by asking to display 1st two results\n",
    "rdd.map(Counter).take(2)\n",
    "\n",
    "# [Counter({'“': 1,\n",
    "#           'W': 1,\n",
    "#           'e': 40,\n",
    "#           ...\n",
    "#           '!': 1,\n",
    "#           '?': 1,\n",
    "#           '”': 1}),\n",
    "#  Counter({'I': 1,\n",
    "#           't': 19,\n",
    "#           ' ': 79,\n",
    "#           ...\n",
    "#           'K': 1,\n",
    "#           ';': 1,\n",
    "#           'b': 3})]"
   ]
  },
  {
   "cell_type": "markdown",
   "metadata": {},
   "source": [
    "rdd.map(Counter) gives us a new RDD with the letter frequencies for each paragraph, but we actually want the letter frequencies of the entire book. Fortunately, we can do this by simply adding the Counter objects together.\n",
    "We perform this reduction from a multi-element RDD to a single output with the .reduce method, passing in an anonymous addition function to specify how to collapse the RDD. [4] The result is a Counter object. We then finish our analysis by using its .most_common method to print out the ten most common characters."
   ]
  },
  {
   "cell_type": "code",
   "execution_count": 30,
   "metadata": {},
   "outputs": [
    {
     "name": "stderr",
     "output_type": "stream",
     "text": [
      "                                                                                \r"
     ]
    },
    {
     "data": {
      "text/plain": [
       "[(' ', 556171),\n",
       " ('e', 309614),\n",
       " ('t', 218172),\n",
       " ('a', 195208),\n",
       " ('o', 187149),\n",
       " ('n', 179581),\n",
       " ('i', 163298),\n",
       " ('h', 162543),\n",
       " ('s', 159207),\n",
       " ('r', 144268)]"
      ]
     },
     "execution_count": 30,
     "metadata": {},
     "output_type": "execute_result"
    }
   ],
   "source": [
    "rdd.map(Counter).reduce(lambda x, y: x + y).most_common(10)\n",
    "# [(' ', 554621),\n",
    "#  ('e', 308958),\n",
    "#  ('t', 217658),\n",
    "#  ('a', 194793),\n",
    "#  ('o', 186623),\n",
    "#  ('n', 179202),\n",
    "#  ('i', 162925),\n",
    "#  ('h', 162216),\n",
    "#  ('s', 158811),\n",
    "#  ('r', 143914)]"
   ]
  },
  {
   "cell_type": "code",
   "execution_count": 31,
   "metadata": {},
   "outputs": [
    {
     "name": "stdout",
     "output_type": "stream",
     "text": [
      "274 ms ± 51.7 ms per loop (mean ± std. dev. of 7 runs, 1 loop each)\n"
     ]
    }
   ],
   "source": [
    "\n",
    "%%timeit\n",
    "rdd.map(Counter).reduce(lambda x, y: x + y).most_common(5)\n",
    "# 272 ms ± 18.6 ms per loop (mean ± std. dev. of 7 runs, 1 loop each)"
   ]
  },
  {
   "cell_type": "code",
   "execution_count": 32,
   "metadata": {},
   "outputs": [
    {
     "name": "stdout",
     "output_type": "stream",
     "text": [
      "304 ms ± 3.68 ms per loop (mean ± std. dev. of 7 runs, 1 loop each)\n"
     ]
    }
   ],
   "source": [
    "\n",
    "%%timeit\n",
    "reduce(lambda x, y: x + y, (Counter(val) for val in pars)).most_common(5)\n",
    "# 806 ms ± 9.37 ms per loop (mean ± std. dev. of 7 runs, 1 loop each)"
   ]
  },
  {
   "cell_type": "markdown",
   "metadata": {},
   "source": []
  }
 ],
 "metadata": {
  "kernelspec": {
   "display_name": "Python 3.9.12 ('.venv_dev_trial-spark-local-pandas-api': venv)",
   "language": "python",
   "name": "python3"
  },
  "language_info": {
   "codemirror_mode": {
    "name": "ipython",
    "version": 3
   },
   "file_extension": ".py",
   "mimetype": "text/x-python",
   "name": "python",
   "nbconvert_exporter": "python",
   "pygments_lexer": "ipython3",
   "version": "3.9.12"
  },
  "orig_nbformat": 4,
  "vscode": {
   "interpreter": {
    "hash": "dc9e752e2a9de4c96e4f145ec3923f5f3132ceee9acfb38f6f130c8b091cf06b"
   }
  }
 },
 "nbformat": 4,
 "nbformat_minor": 2
}
