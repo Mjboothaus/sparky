{
 "cells": [
  {
   "cell_type": "markdown",
   "metadata": {},
   "source": [
    "See https://sparkbyexamples.com/spark/install-apache-spark-on-mac/\n",
    "\n",
    "## Installation\n",
    "\n",
    "`brew install openjdk@11`\n",
    "\n",
    "`brew install scala`\n",
    "\n",
    "`brew install apache-spark`"
   ]
  },
  {
   "cell_type": "markdown",
   "metadata": {},
   "source": [
    "After successful installation of Apache Spark latest version, run `spark-shell` from the command line to launch Spark shell. You should see something like this below (ignore the warning for now). spark-shell is a CLI utility that comes with Apache Spark distribution."
   ]
  },
  {
   "cell_type": "markdown",
   "metadata": {},
   "source": [
    "`$ spark-shell`"
   ]
  },
  {
   "cell_type": "markdown",
   "metadata": {},
   "source": [
    "```\n",
    "Setting default log level to \"WARN\".\n",
    "To adjust logging level use sc.setLogLevel(newLevel). For SparkR, use setLogLevel(newLevel).\n",
    "22/09/22 11:05:46 WARN NativeCodeLoader: Unable to load native-hadoop library for your platform... using builtin-java classes where applicable\n",
    "Spark context Web UI available at http://tmps-air:4040\n",
    "Spark context available as 'sc' (master = local[*], app id = local-1663808746570).\n",
    "Spark session available as 'spark'.\n",
    "Welcome to\n",
    "      ____              __\n",
    "     / __/__  ___ _____/ /__\n",
    "    _\\ \\/ _ \\/ _ `/ __/  '_/\n",
    "   /___/ .__/\\_,_/_/ /_/\\_\\   version 3.3.0\n",
    "      /_/\n",
    "         \n",
    "Using Scala version 2.12.15 (OpenJDK 64-Bit Server VM, Java 18.0.2.1)\n",
    "Type in expressions to have them evaluated.\n",
    "Type :help for more information.\n",
    "\n",
    "scala> "
   ]
  },
  {
   "cell_type": "markdown",
   "metadata": {},
   "source": [
    "## Koalas\n",
    "\n",
    "See https://koalas.readthedocs.io/en/latest/index.html#"
   ]
  },
  {
   "cell_type": "code",
   "execution_count": null,
   "metadata": {},
   "outputs": [],
   "source": []
  }
 ],
 "metadata": {
  "kernelspec": {
   "display_name": "Python 3.8.10 ('old_ancient_axe_conda')",
   "language": "python",
   "name": "python3"
  },
  "language_info": {
   "codemirror_mode": {
    "name": "ipython",
    "version": 3
   },
   "file_extension": ".py",
   "mimetype": "text/x-python",
   "name": "python",
   "nbconvert_exporter": "python",
   "pygments_lexer": "ipython3",
   "version": "3.8.10"
  },
  "orig_nbformat": 4,
  "vscode": {
   "interpreter": {
    "hash": "9f8c86af43be04d00cb1b553c1b81628afbdfebb0fcb37e4e349e206fcf5b5dd"
   }
  }
 },
 "nbformat": 4,
 "nbformat_minor": 2
}
