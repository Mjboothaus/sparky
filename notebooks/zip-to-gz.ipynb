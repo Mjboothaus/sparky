{
 "cells": [
  {
   "cell_type": "code",
   "execution_count": 1,
   "metadata": {},
   "outputs": [],
   "source": [
    "from zipfile import ZipFile\n",
    "import gzip"
   ]
  },
  {
   "cell_type": "code",
   "execution_count": 3,
   "metadata": {},
   "outputs": [],
   "source": [
    "def zip_to_gzip(zip, gzip_filename=None):\n",
    "    zfile = ZipFile(zip)\n",
    "    filename = zfile.namelist()[0]\n",
    "    data = zfile.read(filename)\n",
    "    with open(f'/tmp/{str(filename)}', 'wb') as f:\n",
    "        f.write(data)\n",
    "\n",
    "    if gzip_filename is None:\n",
    "        gzip_filename = f'/tmp/{filename}.gz'\n",
    "    with gzip.open(gzip_filename, 'wb') as gzip_file:\n",
    "        gzip_file.write(data)\n",
    "        "
   ]
  },
  {
   "cell_type": "code",
   "execution_count": 4,
   "metadata": {},
   "outputs": [],
   "source": [
    "zip_to_gzip(\"../data/2020_lar.zip\", \"../data/2020_lar.gz\")"
   ]
  },
  {
   "cell_type": "code",
   "execution_count": null,
   "metadata": {},
   "outputs": [],
   "source": []
  }
 ],
 "metadata": {
  "kernelspec": {
   "display_name": "Python 3.9.12 ('.venv_dev_trial-spark-local-pandas-api': venv)",
   "language": "python",
   "name": "python3"
  },
  "language_info": {
   "codemirror_mode": {
    "name": "ipython",
    "version": 3
   },
   "file_extension": ".py",
   "mimetype": "text/x-python",
   "name": "python",
   "nbconvert_exporter": "python",
   "pygments_lexer": "ipython3",
   "version": "3.9.12"
  },
  "orig_nbformat": 4,
  "vscode": {
   "interpreter": {
    "hash": "f0ab8a3482c3f6df50192c74b784e4b117f25eb61f184ff3f21cd0b626f7656a"
   }
  }
 },
 "nbformat": 4,
 "nbformat_minor": 2
}
