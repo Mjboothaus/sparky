{
  "cells": [
    {
      "cell_type": "markdown",
      "metadata": {
        "colab_type": "text",
        "id": "view-in-github"
      },
      "source": [
        "<a href=\"https://colab.research.google.com/github/Mjboothaus/sparky/blob/main/notebooks/1-simple-demo.ipynb\" target=\"_parent\"><img src=\"https://colab.research.google.com/assets/colab-badge.svg\" alt=\"Open In Colab\"/></a>"
      ]
    },
    {
      "cell_type": "markdown",
      "metadata": {
        "id": "VPuZY6RvC_Qw"
      },
      "source": [
        "## A hands-on demo of analyzing big data with Spark\n",
        "\n",
        "Scan a novel, calculate pi, and run regression on 50 million rows\n",
        "\n",
        "See https://towardsdatascience.com/a-hands-on-demo-of-analyzing-big-data-with-spark-68cb6600a295"
      ]
    },
    {
      "cell_type": "markdown",
      "metadata": {
        "id": "qMwmaX97C_Qy"
      },
      "source": [
        "### The analytics framework for big data\n",
        "\n",
        "Spark is a framework for processing massive amounts of data. It works by partitioning your data into subsets, distributing the subsets to worker nodes (whether they’re logical CPU cores on your laptop [2] or entire machines in a cluster), and then coordinating the workers to analyze the data. In essence, Spark is a “divide and conquer” strategy.\n",
        "\n",
        "A simple analogy can help visualize the value of this approach. Let’s say we want to count the number of books in a library. The “expensive computer” approach would be to teach someone to count books as fast as possible, training them for years to accurately count while sprinting. While fun to watch, this approach isn’t that useful − even Olympic sprinters can only run so fast, and you’re out of luck if your book-counter gets injured or decides to change professions!\n",
        "\n",
        "The Spark approach, meanwhile, would be to get 100 random people, assign each one a section of the library, have them count the books in their section, and then add their answers together. This approach is more scalable, fault-tolerant, and cheaper… and probably still fun to watch.\n",
        "\n",
        "Spark’s main data type is the resilient distributed dataset (RDD). An RDD is an abstraction of data distributed in many places, like how the entity “Walmart” is an abstraction of millions of people around the world. Working with RDDs feels like manipulating a simple array in memory, even though the underlying data may be spread across multiple machines."
      ]
    },
    {
      "cell_type": "markdown",
      "metadata": {
        "id": "S04PCw2qC_Q0"
      },
      "source": [
        "### Getting started\n",
        "\n",
        "Spark is mainly written in Scala but can be used from Java, Python, R, and SQL. We’ll use PySpark, the Python interface for Spark. To install PySpark, type `pip install pyspark` in the Terminal. You might also need to install or update Java. You’ll know everything is set up when you can type pyspark in the Terminal."
      ]
    },
    {
      "cell_type": "code",
      "execution_count": 1,
      "metadata": {
        "id": "o-thcC85C_Q0"
      },
      "outputs": [],
      "source": [
        "# !pyspark   # need to stop manually (as creates interactive session)"
      ]
    },
    {
      "cell_type": "code",
      "execution_count": 1,
      "metadata": {},
      "outputs": [
        {
          "name": "stderr",
          "output_type": "stream",
          "text": [
            "Setting default log level to \"WARN\".\n",
            "To adjust logging level use sc.setLogLevel(newLevel). For SparkR, use setLogLevel(newLevel).\n"
          ]
        },
        {
          "name": "stdout",
          "output_type": "stream",
          "text": [
            "22/12/29 11:59:14 WARN NativeCodeLoader: Unable to load native-hadoop library for your platform... using builtin-java classes where applicable\n",
            "\n",
            "Spark version: 3.3.0\n",
            "\n"
          ]
        }
      ],
      "source": [
        "from pyspark.sql import SparkSession \n",
        "\n",
        "spark = SparkSession.builder.master(\"local\").getOrCreate() \n",
        "print(f\"\\nSpark version: {spark.sparkContext.version}\\n\")"
      ]
    },
    {
      "cell_type": "markdown",
      "metadata": {
        "id": "VJceXNc-C_Q1"
      },
      "source": [
        "Below is a tiny PySpark demo. We start by manually defining the SparkSession to start a connection to Spark. (If you’re in the PySpark Terminal, this is already done for you.) We then create an RDD of an array, visualize the first two numbers, and print out the maximum. With .getNumPartitions, we see that Spark allocated our array to the eight logical cores on my machine."
      ]
    },
    {
      "cell_type": "code",
      "execution_count": 2,
      "metadata": {
        "id": "CVY_W43rDIJs"
      },
      "outputs": [],
      "source": [
        "%%bash\n",
        "[[ ! -e /colabtools ]] && exit  # Continue only if running on Google Colab\n",
        "# Do Colab-only stuff here\n",
        "!pip install pyspark"
      ]
    },
    {
      "cell_type": "code",
      "execution_count": 3,
      "metadata": {
        "id": "tQOSjUTZC_Q2"
      },
      "outputs": [],
      "source": [
        "from pyspark.sql import SparkSession"
      ]
    },
    {
      "cell_type": "code",
      "execution_count": 4,
      "metadata": {
        "id": "MRswK_cxC_Q2"
      },
      "outputs": [],
      "source": [
        "# Start Spark connection\n",
        "spark = SparkSession.builder.getOrCreate()"
      ]
    },
    {
      "cell_type": "code",
      "execution_count": 13,
      "metadata": {
        "colab": {
          "base_uri": "https://localhost:8080/"
        },
        "id": "Sq2aEVI9C_Q3",
        "outputId": "59c23691-f9dc-4c2b-cd5a-813446182b4f"
      },
      "outputs": [],
      "source": [
        "# Allocate the numbers 0-9999999 to an RDD\n",
        "numbers = range(10000000)\n",
        "rdd = spark.sparkContext.parallelize(numbers)"
      ]
    },
    {
      "cell_type": "code",
      "execution_count": 14,
      "metadata": {},
      "outputs": [
        {
          "name": "stdout",
          "output_type": "stream",
          "text": [
            "[0, 1]\n"
          ]
        },
        {
          "name": "stderr",
          "output_type": "stream",
          "text": [
            "[Stage 9:>                                                          (0 + 1) / 1]\r"
          ]
        },
        {
          "name": "stdout",
          "output_type": "stream",
          "text": [
            "9999999\n",
            "1\n"
          ]
        },
        {
          "name": "stderr",
          "output_type": "stream",
          "text": [
            "                                                                                \r"
          ]
        }
      ],
      "source": [
        "# Visualize RDD\n",
        "print(rdd.take(2))  # [0, 1]\n",
        "print(rdd.max())    # 9999\n",
        "print(rdd.getNumPartitions())  # 8"
      ]
    },
    {
      "cell_type": "code",
      "execution_count": 16,
      "metadata": {},
      "outputs": [
        {
          "name": "stderr",
          "output_type": "stream",
          "text": [
            "[Stage 11:>                                                         (0 + 1) / 1]\r"
          ]
        },
        {
          "name": "stdout",
          "output_type": "stream",
          "text": [
            "4999999.5\n"
          ]
        },
        {
          "name": "stderr",
          "output_type": "stream",
          "text": [
            "                                                                                \r"
          ]
        }
      ],
      "source": [
        "print(rdd.mean())"
      ]
    },
    {
      "cell_type": "code",
      "execution_count": 15,
      "metadata": {
        "colab": {
          "base_uri": "https://localhost:8080/"
        },
        "id": "3BZzaojuC_Q4",
        "outputId": "79a42225-92c2-4413-d944-3aebf83efc3a"
      },
      "outputs": [
        {
          "name": "stdout",
          "output_type": "stream",
          "text": [
            "[0, 1, 2, 3, 4, 5, 6, 7, 8, 9]\n"
          ]
        }
      ],
      "source": [
        "print(rdd.take(10))"
      ]
    }
  ],
  "metadata": {
    "colab": {
      "collapsed_sections": [],
      "include_colab_link": true,
      "provenance": []
    },
    "kernelspec": {
      "display_name": ".venv_dev_try-py-spark",
      "language": "python",
      "name": "python3"
    },
    "language_info": {
      "codemirror_mode": {
        "name": "ipython",
        "version": 3
      },
      "file_extension": ".py",
      "mimetype": "text/x-python",
      "name": "python",
      "nbconvert_exporter": "python",
      "pygments_lexer": "ipython3",
      "version": "3.9.12"
    },
    "orig_nbformat": 4,
    "vscode": {
      "interpreter": {
        "hash": "0ec9dbb75f8631dd448f90578dc0077e5409135bce89c2b01bc0038bf1cfed25"
      }
    }
  },
  "nbformat": 4,
  "nbformat_minor": 0
}
