{
 "cells": [
  {
   "cell_type": "code",
   "execution_count": 1,
   "metadata": {},
   "outputs": [],
   "source": [
    "import ibis\n",
    "from pyspark.sql import SparkSession"
   ]
  },
  {
   "cell_type": "code",
   "execution_count": 2,
   "metadata": {},
   "outputs": [
    {
     "name": "stderr",
     "output_type": "stream",
     "text": [
      "Setting default log level to \"WARN\".\n",
      "To adjust logging level use sc.setLogLevel(newLevel). For SparkR, use setLogLevel(newLevel).\n"
     ]
    },
    {
     "name": "stdout",
     "output_type": "stream",
     "text": [
      "22/09/24 20:39:20 WARN NativeCodeLoader: Unable to load native-hadoop library for your platform... using builtin-java classes where applicable\n",
      "22/09/24 20:39:22 WARN Utils: Service 'SparkUI' could not bind on port 4040. Attempting port 4041.\n"
     ]
    }
   ],
   "source": [
    "\n",
    "session = SparkSession.builder.getOrCreate()\n",
    "ipsc = ibis.pyspark.connect(session)\n"
   ]
  },
  {
   "cell_type": "code",
   "execution_count": 3,
   "metadata": {},
   "outputs": [
    {
     "data": {
      "text/plain": [
       "<ibis.backends.pyspark.Backend at 0x12c094700>"
      ]
     },
     "execution_count": 3,
     "metadata": {},
     "output_type": "execute_result"
    }
   ],
   "source": [
    "ipsc"
   ]
  },
  {
   "cell_type": "code",
   "execution_count": 4,
   "metadata": {},
   "outputs": [
    {
     "name": "stderr",
     "output_type": "stream",
     "text": [
      "                                                                                \r"
     ]
    },
    {
     "data": {
      "text/plain": [
       "['default']"
      ]
     },
     "execution_count": 4,
     "metadata": {},
     "output_type": "execute_result"
    }
   ],
   "source": [
    "ipsc.list_databases()"
   ]
  },
  {
   "cell_type": "code",
   "execution_count": 21,
   "metadata": {},
   "outputs": [
    {
     "data": {
      "text/plain": [
       "['tmp_df_table']"
      ]
     },
     "execution_count": 21,
     "metadata": {},
     "output_type": "execute_result"
    }
   ],
   "source": [
    "ipsc.list_tables()\n"
   ]
  },
  {
   "cell_type": "code",
   "execution_count": 23,
   "metadata": {},
   "outputs": [],
   "source": [
    "my_table = ipsc.table(\"tmp_df_table\")"
   ]
  },
  {
   "cell_type": "code",
   "execution_count": 26,
   "metadata": {},
   "outputs": [
    {
     "name": "stdout",
     "output_type": "stream",
     "text": [
      "derived_msa_md\n",
      "derived_loan_product_type\n",
      "derived_dwelling_category\n",
      "derived_ethnicity\n",
      "derived_race\n",
      "derived_sex\n",
      "discount_points\n",
      "debt_to_income_ratio\n",
      "denial_reason_1\n",
      "denial_reason_2\n",
      "denial_reason_3\n",
      "denial_reason_4\n"
     ]
    }
   ],
   "source": [
    "for col in my_table.columns:\n",
    "    if col[0] == \"d\":\n",
    "        print(col)"
   ]
  },
  {
   "cell_type": "code",
   "execution_count": 6,
   "metadata": {},
   "outputs": [],
   "source": [
    "df_rdd = session.read.csv(\"../data/sample_big_mortgage_file.csv.gz\", header=True, sep=\"|\")"
   ]
  },
  {
   "cell_type": "code",
   "execution_count": 7,
   "metadata": {},
   "outputs": [
    {
     "data": {
      "text/plain": [
       "5"
      ]
     },
     "execution_count": 7,
     "metadata": {},
     "output_type": "execute_result"
    }
   ],
   "source": [
    "df_rdd.count()"
   ]
  },
  {
   "cell_type": "code",
   "execution_count": 14,
   "metadata": {},
   "outputs": [
    {
     "data": {
      "text/plain": [
       "pyspark.sql.dataframe.DataFrame"
      ]
     },
     "execution_count": 14,
     "metadata": {},
     "output_type": "execute_result"
    }
   ],
   "source": [
    "type(df_rdd)"
   ]
  },
  {
   "cell_type": "code",
   "execution_count": 17,
   "metadata": {},
   "outputs": [],
   "source": [
    "#df_rdd.write.mode(\"overwrite\").saveAsTable(\"testdb.test\")\n",
    "\n",
    "df_rdd.createTempView(\"tmp_df_table\")"
   ]
  },
  {
   "cell_type": "code",
   "execution_count": 18,
   "metadata": {},
   "outputs": [],
   "source": [
    "query = \"SELECT * FROM tmp_df_table\""
   ]
  },
  {
   "cell_type": "code",
   "execution_count": 19,
   "metadata": {},
   "outputs": [],
   "source": [
    "df1 = session.sql(query)"
   ]
  },
  {
   "cell_type": "code",
   "execution_count": 20,
   "metadata": {},
   "outputs": [
    {
     "data": {
      "text/plain": [
       "Row(activity_year='2020', lei='KB1H1DSPRFMYMCUFXT09', derived_msa_md='47260', state_code='VA', county_code='51810', census_tract='51810046015', conforming_loan_limit='C', derived_loan_product_type='Conventional:First Lien', derived_dwelling_category='Single Family (1-4 Units):Site-Built', derived_ethnicity='Joint', derived_race='White', derived_sex='Joint', action_taken='3', purchaser_type='0', preapproval='2', loan_type='1', loan_purpose='2', lien_status='1', reverse_mortgage='2', open_end_line_of_credit='1', business_or_commercial_purpose='2', loan_amount='35000', combined_loan_to_value_ratio='NA', interest_rate='NA', rate_spread='NA', hoepa_status='3', total_loan_costs='NA', total_points_and_fees='NA', origination_charges='NA', discount_points='NA', lender_credits='NA', loan_term='361', prepayment_penalty_term='NA', intro_rate_period='NA', negative_amortization='2', interest_only_payment='2', balloon_payment='2', other_nonamortizing_features='2', property_value='175000', construction_method='1', occupancy_type='1', manufactured_home_secured_property_type='3', manufactured_home_land_property_interest='5', total_units='1', multifamily_affordable_units='NA', income='NA', debt_to_income_ratio='NA', applicant_credit_score_type='1', co_applicant_credit_score_type='9', applicant_ethnicity_1='2', applicant_ethnicity_2=None, applicant_ethnicity_3=None, applicant_ethnicity_4=None, applicant_ethnicity_5=None, co_applicant_ethnicity_1='14', co_applicant_ethnicity_2=None, co_applicant_ethnicity_3=None, co_applicant_ethnicity_4=None, co_applicant_ethnicity_5=None, applicant_ethnicity_observed='2', co_applicant_ethnicity_observed='2', applicant_race_1='5', applicant_race_2=None, applicant_race_3=None, applicant_race_4=None, applicant_race_5=None, co_applicant_race_1='5', co_applicant_race_2=None, co_applicant_race_3=None, co_applicant_race_4=None, co_applicant_race_5=None, applicant_race_observed='2', co_applicant_race_observed='2', applicant_sex='1', co_applicant_sex='2', applicant_sex_observed='2', co_applicant_sex_observed='2', applicant_age='35-44', co_applicant_age='35-44', applicant_age_above_62='No', co_applicant_age_above_62='No', submission_of_application='1', initially_payable_to_institution='1', aus_1='6', aus_2=None, aus_3=None, aus_4=None, aus_5=None, denial_reason_1='3', denial_reason_2=None, denial_reason_3=None, denial_reason_4=None, tract_population='5855', tract_minority_population_percent='51.7299999999999969', ffiec_msa_md_median_family_income='78800', tract_to_msa_income_percentage='105.0', tract_owner_occupied_units='1375', tract_one_to_four_family_homes='1885', tract_median_age_of_housing_units='29')"
      ]
     },
     "execution_count": 20,
     "metadata": {},
     "output_type": "execute_result"
    }
   ],
   "source": [
    "df1.head()"
   ]
  },
  {
   "cell_type": "code",
   "execution_count": null,
   "metadata": {},
   "outputs": [],
   "source": []
  }
 ],
 "metadata": {
  "kernelspec": {
   "display_name": "Python 3.9.12 ('.venv_dev_trial-spark-local-pandas-api': venv)",
   "language": "python",
   "name": "python3"
  },
  "language_info": {
   "codemirror_mode": {
    "name": "ipython",
    "version": 3
   },
   "file_extension": ".py",
   "mimetype": "text/x-python",
   "name": "python",
   "nbconvert_exporter": "python",
   "pygments_lexer": "ipython3",
   "version": "3.9.12"
  },
  "orig_nbformat": 4,
  "vscode": {
   "interpreter": {
    "hash": "f0ab8a3482c3f6df50192c74b784e4b117f25eb61f184ff3f21cd0b626f7656a"
   }
  }
 },
 "nbformat": 4,
 "nbformat_minor": 2
}
